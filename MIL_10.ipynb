{
  "nbformat": 4,
  "nbformat_minor": 0,
  "metadata": {
    "colab": {
      "provenance": [],
      "authorship_tag": "ABX9TyPInlwmNd+UtXUb0sk8xwWN",
      "include_colab_link": true
    },
    "kernelspec": {
      "name": "python3",
      "display_name": "Python 3"
    },
    "language_info": {
      "name": "python"
    }
  },
  "cells": [
    {
      "cell_type": "markdown",
      "metadata": {
        "id": "view-in-github",
        "colab_type": "text"
      },
      "source": [
        "<a href=\"https://colab.research.google.com/github/Imran-co/Machine-Intelligence/blob/main/MIL_10.ipynb\" target=\"_parent\"><img src=\"https://colab.research.google.com/assets/colab-badge.svg\" alt=\"Open In Colab\"/></a>"
      ]
    },
    {
      "cell_type": "code",
      "source": [
        "import numpy as np\n",
        "\n",
        "gamma=0.9\n",
        "theta=1e-6\n",
        "max_iteration=1000\n",
        "\n",
        "def policy_eval(states, actions, T, R, policy , gamma, theta, max_iteration):\n",
        "     Vf = np.zeros(len(states))\n",
        "\n",
        "     for _ in range(max_iteration):\n",
        "      delta = 0\n",
        "      for s in states:\n",
        "        v = Vf[s]\n",
        "        new_v = 0\n",
        "        for a in actions:\n",
        "          action_prob = policy[s][a]\n",
        "          exp_reward = 0\n",
        "          for s_prime in states:\n",
        "            exp_reward += T[s][a][s_prime]*(R[s][a][s_prime] + gamma * Vf[s_prime])\n",
        "            new_v += action_prob * exp_reward\n",
        "            Vf[s] = new_v\n",
        "            delta = max(delta, abs(v - Vf[s]))\n",
        "\n",
        "          if theta > delta:\n",
        "            break\n",
        "\n",
        "      return Vf\n",
        "\n",
        "\n",
        "states = [0, 1, 2]\n",
        "actions = [0, 1]\n",
        "\n",
        "# transition matrix T[s][a][s'] = P(s' | s, a)\n",
        "Transistion = np.array([\n",
        "    # Action 0\n",
        "    [[0.7, 0.2, 0.1],   # From state 0\n",
        "     [0.1, 0.8, 0.1],   # From state 1\n",
        "     [0.3, 0.3, 0.4]],  # From state 2\n",
        "    # Action 1\n",
        "    [[0.1, 0.1, 0.8],   # From state 0\n",
        "     [0.4, 0.4, 0.2],   # From state 1\n",
        "     [0.2, 0.6, 0.2]]   # From state 2\n",
        "]).transpose((1, 0, 2))  # Reshape to (s, a, s')\n",
        "\n",
        "# reward function R[s][a][s']\n",
        "Reward = np.array([\n",
        "    # Action 0\n",
        "    [[1, 0, -1],   # From state 0\n",
        "     [2, 1, 0],     # From state 1\n",
        "     [-1, 0, 1]],   # From state 2\n",
        "    # Action 1\n",
        "    [[0, 0, 5],     # From state 0\n",
        "     [1, -1, 3],    # From state 1\n",
        "     [2, 1, -2]]    # From state 2\n",
        "]).transpose((1, 0, 2))  # Reshape to (s, a, s')\n",
        "\n",
        "policy = np.full((len(states), len(actions)),0.5)\n",
        "Vf = policy_eval(states, actions, Transistion, Reward, policy, gamma, theta, max_iteration)\n",
        "print(\"Value function:\",Vf)\n"
      ],
      "metadata": {
        "colab": {
          "base_uri": "https://localhost:8080/"
        },
        "id": "hrssQL8giRzM",
        "outputId": "3528d5e4-645b-4e76-8f9b-9a6702ac0d92"
      },
      "execution_count": null,
      "outputs": [
        {
          "output_type": "stream",
          "name": "stdout",
          "text": [
            "Value function: [3.135      4.77569464 7.40580148]\n"
          ]
        }
      ]
    }
  ]
}